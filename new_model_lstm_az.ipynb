{
 "cells": [
  {
   "cell_type": "code",
   "execution_count": 1,
   "id": "fe49094f-03d0-46be-a3a1-e7380239c74c",
   "metadata": {},
   "outputs": [],
   "source": [
    "from tensorflow import keras\n",
    "import numpy as np\n",
    "import matplotlib.pyplot as plt"
   ]
  },
  {
   "cell_type": "code",
   "execution_count": 2,
   "id": "cc27e8e6-6efa-4082-b41a-c38ba6f48696",
   "metadata": {},
   "outputs": [],
   "source": [
    "import pandas as pd\n",
    "import numpy as np\n",
    "\n",
    "# 전처리\n",
    "from sklearn.preprocessing import LabelEncoder\n",
    "from sklearn.model_selection import StratifiedKFold\n",
    "import random\n",
    "\n",
    "# 모델\n",
    "from lightgbm import LGBMClassifier\n",
    "\n",
    "# 시각화 툴\n",
    "import matplotlib.pyplot as plt\n",
    "import seaborn as sns\n",
    "import plotly.express as px\n",
    "import plotly.graph_objects as go"
   ]
  },
  {
   "cell_type": "code",
   "execution_count": 3,
   "id": "6ad4a576-a31c-45dd-9b1a-3af8edea4d04",
   "metadata": {},
   "outputs": [],
   "source": [
    "# data load\n",
    "\n",
    "inputs = pd.read_csv('./content/train.csv')\n",
    "labels = pd.read_csv('./content/train_label.csv')\n",
    "test = pd.read_csv('./content/test.csv')"
   ]
  },
  {
   "cell_type": "code",
   "execution_count": 4,
   "id": "60cae849-3d58-4ed0-9d78-550cafe851d4",
   "metadata": {},
   "outputs": [],
   "source": [
    "time_series_length = pd.concat([inputs['EMAIL'].value_counts()])"
   ]
  },
  {
   "cell_type": "code",
   "execution_count": 5,
   "id": "434d77de-2264-4c9f-acb3-3671a233dddf",
   "metadata": {},
   "outputs": [],
   "source": [
    "shortest_length = time_series_length[-1]"
   ]
  },
  {
   "cell_type": "code",
   "execution_count": 6,
   "id": "c368b85a-9cc7-4be8-9ec2-6a86fff8aad9",
   "metadata": {},
   "outputs": [
    {
     "data": {
      "text/plain": [
       "35"
      ]
     },
     "execution_count": 6,
     "metadata": {},
     "output_type": "execute_result"
    }
   ],
   "source": [
    "shortest_length"
   ]
  },
  {
   "cell_type": "code",
   "execution_count": 7,
   "id": "327bdc39-2b65-4a48-bdbb-c4ef47d4870a",
   "metadata": {},
   "outputs": [],
   "source": [
    "arranged_labels = []\n",
    "for id in inputs['EMAIL'].unique():\n",
    "            idx = inputs['EMAIL'][inputs['EMAIL'] == id].index\n",
    "            start_idx = idx[0]\n",
    "            end_idx = idx[-1]\n",
    "            inputs.drop(list((range(start_idx + shortest_length , end_idx+1))), axis=0, inplace=True)\n",
    "            inputs = inputs.reset_index(drop=True)\n",
    "            label_idx = labels['SAMPLE_EMAIL'][labels['SAMPLE_EMAIL'] == id].index[0]\n",
    "            arranged_labels.append(labels['DIAG_NM'][label_idx])"
   ]
  },
  {
   "cell_type": "code",
   "execution_count": 8,
   "id": "f1d00ab9-8466-4e93-84d6-7f178438ac98",
   "metadata": {
    "scrolled": true,
    "tags": []
   },
   "outputs": [
    {
     "data": {
      "text/plain": [
       "['CN',\n",
       " 'MCI',\n",
       " 'MCI',\n",
       " 'CN',\n",
       " 'MCI',\n",
       " 'CN',\n",
       " 'MCI',\n",
       " 'CN',\n",
       " 'MCI',\n",
       " 'CN',\n",
       " 'CN',\n",
       " 'MCI',\n",
       " 'Dem',\n",
       " 'CN',\n",
       " 'CN',\n",
       " 'CN',\n",
       " 'CN',\n",
       " 'MCI',\n",
       " 'MCI',\n",
       " 'CN',\n",
       " 'MCI',\n",
       " 'CN',\n",
       " 'CN',\n",
       " 'CN',\n",
       " 'MCI',\n",
       " 'Dem',\n",
       " 'CN',\n",
       " 'Dem',\n",
       " 'CN',\n",
       " 'MCI',\n",
       " 'CN',\n",
       " 'MCI',\n",
       " 'MCI',\n",
       " 'CN',\n",
       " 'CN',\n",
       " 'MCI',\n",
       " 'CN',\n",
       " 'CN',\n",
       " 'CN',\n",
       " 'CN',\n",
       " 'CN',\n",
       " 'CN',\n",
       " 'CN',\n",
       " 'CN',\n",
       " 'CN',\n",
       " 'CN',\n",
       " 'CN',\n",
       " 'CN',\n",
       " 'CN',\n",
       " 'MCI',\n",
       " 'CN',\n",
       " 'CN',\n",
       " 'CN',\n",
       " 'MCI',\n",
       " 'MCI',\n",
       " 'CN',\n",
       " 'CN',\n",
       " 'MCI',\n",
       " 'CN',\n",
       " 'CN',\n",
       " 'CN',\n",
       " 'CN',\n",
       " 'Dem',\n",
       " 'MCI',\n",
       " 'CN',\n",
       " 'CN',\n",
       " 'MCI',\n",
       " 'CN',\n",
       " 'Dem',\n",
       " 'CN',\n",
       " 'CN',\n",
       " 'MCI',\n",
       " 'CN',\n",
       " 'CN',\n",
       " 'CN',\n",
       " 'CN',\n",
       " 'Dem',\n",
       " 'CN',\n",
       " 'CN',\n",
       " 'MCI',\n",
       " 'MCI',\n",
       " 'CN',\n",
       " 'CN',\n",
       " 'CN',\n",
       " 'MCI',\n",
       " 'CN',\n",
       " 'MCI',\n",
       " 'CN',\n",
       " 'MCI',\n",
       " 'CN',\n",
       " 'CN',\n",
       " 'Dem',\n",
       " 'CN',\n",
       " 'CN',\n",
       " 'CN',\n",
       " 'CN',\n",
       " 'MCI',\n",
       " 'MCI',\n",
       " 'MCI',\n",
       " 'CN',\n",
       " 'MCI',\n",
       " 'CN',\n",
       " 'CN',\n",
       " 'CN',\n",
       " 'CN',\n",
       " 'CN',\n",
       " 'Dem',\n",
       " 'MCI',\n",
       " 'MCI',\n",
       " 'MCI',\n",
       " 'CN',\n",
       " 'MCI',\n",
       " 'MCI',\n",
       " 'CN',\n",
       " 'CN',\n",
       " 'CN',\n",
       " 'CN',\n",
       " 'MCI',\n",
       " 'CN',\n",
       " 'CN',\n",
       " 'MCI',\n",
       " 'MCI',\n",
       " 'CN',\n",
       " 'CN',\n",
       " 'CN',\n",
       " 'Dem',\n",
       " 'CN',\n",
       " 'MCI',\n",
       " 'Dem',\n",
       " 'CN',\n",
       " 'CN',\n",
       " 'MCI',\n",
       " 'CN',\n",
       " 'CN',\n",
       " 'CN',\n",
       " 'MCI',\n",
       " 'CN',\n",
       " 'CN',\n",
       " 'CN',\n",
       " 'CN',\n",
       " 'CN',\n",
       " 'CN',\n",
       " 'CN',\n",
       " 'CN',\n",
       " 'CN',\n",
       " 'CN',\n",
       " 'CN',\n",
       " 'CN']"
      ]
     },
     "execution_count": 8,
     "metadata": {},
     "output_type": "execute_result"
    }
   ],
   "source": [
    "arranged_labels"
   ]
  },
  {
   "cell_type": "code",
   "execution_count": 9,
   "id": "c25c89d3-73cc-43fa-9d65-602449e43404",
   "metadata": {},
   "outputs": [],
   "source": [
    "del_col = [ 'EMAIL', 'summary_date',\n",
    "                   'activity_class_5min', 'activity_met_1min',\n",
    "                   'sleep_hr_5min', 'sleep_hypnogram_5min', 'sleep_rmssd_5min', 'timezone', 'sleep_total',\n",
    "                   'CONVERT(activity_class_5min USING utf8)', 'CONVERT(activity_met_1min USING utf8)',\n",
    "                   'CONVERT(sleep_hr_5min USING utf8)', 'CONVERT(sleep_hypnogram_5min USING utf8)',\n",
    "                   'CONVERT(sleep_rmssd_5min USING utf8)']\n",
    "inputs.drop(del_col, axis=1, inplace=True)\n",
    "test.drop(del_col, axis=1, inplace=True)"
   ]
  },
  {
   "cell_type": "code",
   "execution_count": 10,
   "id": "7fd8da13-7b66-485a-a0a3-6661c36ad1ac",
   "metadata": {},
   "outputs": [],
   "source": [
    "from sklearn.preprocessing import StandardScaler\n",
    "scaler = StandardScaler()\n",
    "scaler.fit(inputs)\n",
    "inputs = scaler.transform(inputs)"
   ]
  },
  {
   "cell_type": "code",
   "execution_count": 11,
   "id": "a3ab95d6-fa92-499d-b005-35d8ea6da2a3",
   "metadata": {},
   "outputs": [
    {
     "data": {
      "text/plain": [
       "(5180, 51)"
      ]
     },
     "execution_count": 11,
     "metadata": {},
     "output_type": "execute_result"
    }
   ],
   "source": [
    "inputs.shape"
   ]
  },
  {
   "cell_type": "code",
   "execution_count": 12,
   "id": "ed3218f6-76c4-4bef-b885-3acd3d5a096b",
   "metadata": {},
   "outputs": [
    {
     "data": {
      "text/plain": [
       "148"
      ]
     },
     "execution_count": 12,
     "metadata": {},
     "output_type": "execute_result"
    }
   ],
   "source": [
    "len(arranged_labels)"
   ]
  },
  {
   "cell_type": "code",
   "execution_count": 13,
   "id": "849ea83d-f511-49f3-a84e-548c187d9c28",
   "metadata": {},
   "outputs": [
    {
     "data": {
      "text/plain": [
       "array(['CN', 'Dem', 'MCI'], dtype='<U3')"
      ]
     },
     "execution_count": 13,
     "metadata": {},
     "output_type": "execute_result"
    }
   ],
   "source": [
    "from sklearn import preprocessing\n",
    "le = preprocessing.LabelEncoder()\n",
    "le.fit(arranged_labels)\n",
    "le.classes_"
   ]
  },
  {
   "cell_type": "code",
   "execution_count": 14,
   "id": "f6323526-ac84-4507-b325-00cd88972742",
   "metadata": {},
   "outputs": [],
   "source": [
    "arranged_labels = le.transform(arranged_labels)"
   ]
  },
  {
   "cell_type": "code",
   "execution_count": 15,
   "id": "33f9830f-570b-49e8-8a18-4201bae4e034",
   "metadata": {
    "scrolled": true,
    "tags": []
   },
   "outputs": [
    {
     "data": {
      "text/plain": [
       "array([0, 2, 2, 0, 2, 0, 2, 0, 2, 0, 0, 2, 1, 0, 0, 0, 0, 2, 2, 0, 2, 0,\n",
       "       0, 0, 2, 1, 0, 1, 0, 2, 0, 2, 2, 0, 0, 2, 0, 0, 0, 0, 0, 0, 0, 0,\n",
       "       0, 0, 0, 0, 0, 2, 0, 0, 0, 2, 2, 0, 0, 2, 0, 0, 0, 0, 1, 2, 0, 0,\n",
       "       2, 0, 1, 0, 0, 2, 0, 0, 0, 0, 1, 0, 0, 2, 2, 0, 0, 0, 2, 0, 2, 0,\n",
       "       2, 0, 0, 1, 0, 0, 0, 0, 2, 2, 2, 0, 2, 0, 0, 0, 0, 0, 1, 2, 2, 2,\n",
       "       0, 2, 2, 0, 0, 0, 0, 2, 0, 0, 2, 2, 0, 0, 0, 1, 0, 2, 1, 0, 0, 2,\n",
       "       0, 0, 0, 2, 0, 0, 0, 0, 0, 0, 0, 0, 0, 0, 0, 0])"
      ]
     },
     "execution_count": 15,
     "metadata": {},
     "output_type": "execute_result"
    }
   ],
   "source": [
    "arranged_labels"
   ]
  },
  {
   "cell_type": "code",
   "execution_count": 16,
   "id": "93e17901-3950-4e82-9a5c-dcf794f7de90",
   "metadata": {},
   "outputs": [
    {
     "data": {
      "text/plain": [
       "(148,)"
      ]
     },
     "execution_count": 16,
     "metadata": {},
     "output_type": "execute_result"
    }
   ],
   "source": [
    "arranged_labels.shape"
   ]
  },
  {
   "cell_type": "code",
   "execution_count": 17,
   "id": "83a98e61-b37e-48d7-b8e1-55100f4c62e1",
   "metadata": {},
   "outputs": [],
   "source": [
    "from numpy import array\n",
    "from keras.models import Sequential\n",
    "from keras.layers import Dense, LSTM\n",
    "\n",
    "x = inputs.reshape((148,35,51))"
   ]
  },
  {
   "cell_type": "code",
   "execution_count": 18,
   "id": "056b9da2-4075-47de-94ad-2cf1bae52ce4",
   "metadata": {},
   "outputs": [
    {
     "data": {
      "text/plain": [
       "(148, 35, 51)"
      ]
     },
     "execution_count": 18,
     "metadata": {},
     "output_type": "execute_result"
    }
   ],
   "source": [
    "x.shape"
   ]
  },
  {
   "cell_type": "code",
   "execution_count": 19,
   "id": "1ad79abb-6ee5-4bdb-a6b4-c3b1a53e2227",
   "metadata": {},
   "outputs": [],
   "source": [
    "y = arranged_labels"
   ]
  },
  {
   "cell_type": "code",
   "execution_count": 20,
   "id": "8300d231-b6c5-4e08-8ae3-2cfd0648742f",
   "metadata": {},
   "outputs": [
    {
     "data": {
      "text/plain": [
       "(148,)"
      ]
     },
     "execution_count": 20,
     "metadata": {},
     "output_type": "execute_result"
    }
   ],
   "source": [
    "y.shape"
   ]
  },
  {
   "cell_type": "code",
   "execution_count": 21,
   "id": "72830ab3-d190-4b3a-a970-e0ae7108ab96",
   "metadata": {
    "scrolled": true,
    "tags": []
   },
   "outputs": [
    {
     "data": {
      "text/plain": [
       "array([0, 2, 2, 0, 2, 0, 2, 0, 2, 0, 0, 2, 1, 0, 0, 0, 0, 2, 2, 0, 2, 0,\n",
       "       0, 0, 2, 1, 0, 1, 0, 2, 0, 2, 2, 0, 0, 2, 0, 0, 0, 0, 0, 0, 0, 0,\n",
       "       0, 0, 0, 0, 0, 2, 0, 0, 0, 2, 2, 0, 0, 2, 0, 0, 0, 0, 1, 2, 0, 0,\n",
       "       2, 0, 1, 0, 0, 2, 0, 0, 0, 0, 1, 0, 0, 2, 2, 0, 0, 0, 2, 0, 2, 0,\n",
       "       2, 0, 0, 1, 0, 0, 0, 0, 2, 2, 2, 0, 2, 0, 0, 0, 0, 0, 1, 2, 2, 2,\n",
       "       0, 2, 2, 0, 0, 0, 0, 2, 0, 0, 2, 2, 0, 0, 0, 1, 0, 2, 1, 0, 0, 2,\n",
       "       0, 0, 0, 2, 0, 0, 0, 0, 0, 0, 0, 0, 0, 0, 0, 0])"
      ]
     },
     "execution_count": 21,
     "metadata": {},
     "output_type": "execute_result"
    }
   ],
   "source": [
    "y"
   ]
  },
  {
   "cell_type": "code",
   "execution_count": 22,
   "id": "95038ad4-eecf-40ea-8a8d-086dc199bc94",
   "metadata": {},
   "outputs": [
    {
     "name": "stdout",
     "output_type": "stream",
     "text": [
      "WARNING:tensorflow:Layer lstm will not use cuDNN kernel since it doesn't meet the cuDNN kernel criteria. It will use generic GPU kernel as fallback when running on GPU\n"
     ]
    }
   ],
   "source": [
    "model = Sequential()\n",
    "model.add(LSTM(24, activation = 'relu', input_shape=(35,51)))\n",
    "model.add(Dense(12))\n",
    "model.add(Dense(6))\n",
    "model.add(Dense(3,activation='softmax'))"
   ]
  },
  {
   "cell_type": "code",
   "execution_count": 26,
   "id": "244b7ede-2525-4892-8863-714dacd34c74",
   "metadata": {
    "tags": []
   },
   "outputs": [
    {
     "name": "stdout",
     "output_type": "stream",
     "text": [
      "Epoch 1/500\n",
      "118/118 [==============================] - 7s 58ms/step - loss: 0.0598 - sparse_categorical_accuracy: 0.9965 - val_loss: 3.6356 - val_sparse_categorical_accuracy: 0.5000\n",
      "Epoch 2/500\n",
      "118/118 [==============================] - 7s 56ms/step - loss: 0.0412 - sparse_categorical_accuracy: 0.9923 - val_loss: 3.9375 - val_sparse_categorical_accuracy: 0.5333\n",
      "Epoch 3/500\n",
      "118/118 [==============================] - 6s 54ms/step - loss: 0.0209 - sparse_categorical_accuracy: 0.9918 - val_loss: 5.2525 - val_sparse_categorical_accuracy: 0.5333\n",
      "Epoch 4/500\n",
      "118/118 [==============================] - 6s 48ms/step - loss: 0.4321 - sparse_categorical_accuracy: 0.9511 - val_loss: 3.1227 - val_sparse_categorical_accuracy: 0.5000\n",
      "Epoch 5/500\n",
      "118/118 [==============================] - 6s 51ms/step - loss: 0.2052 - sparse_categorical_accuracy: 0.9500 - val_loss: 2.5924 - val_sparse_categorical_accuracy: 0.5333\n",
      "Epoch 6/500\n",
      "118/118 [==============================] - 6s 53ms/step - loss: 0.0347 - sparse_categorical_accuracy: 0.9903 - val_loss: 2.8265 - val_sparse_categorical_accuracy: 0.5333\n",
      "Epoch 7/500\n",
      "118/118 [==============================] - 6s 48ms/step - loss: 0.0289 - sparse_categorical_accuracy: 0.9860 - val_loss: 2.9197 - val_sparse_categorical_accuracy: 0.5333\n",
      "Epoch 8/500\n",
      "118/118 [==============================] - 6s 49ms/step - loss: 0.0445 - sparse_categorical_accuracy: 0.9676 - val_loss: 3.0121 - val_sparse_categorical_accuracy: 0.5333\n",
      "Epoch 9/500\n",
      "118/118 [==============================] - 6s 47ms/step - loss: 0.0257 - sparse_categorical_accuracy: 0.9767 - val_loss: 3.1164 - val_sparse_categorical_accuracy: 0.5333\n",
      "Epoch 10/500\n",
      "118/118 [==============================] - 7s 57ms/step - loss: 0.0168 - sparse_categorical_accuracy: 0.9848 - val_loss: 3.2112 - val_sparse_categorical_accuracy: 0.5667\n",
      "Epoch 11/500\n",
      "118/118 [==============================] - 6s 50ms/step - loss: 0.0125 - sparse_categorical_accuracy: 1.0000 - val_loss: 3.3165 - val_sparse_categorical_accuracy: 0.5667\n",
      "Epoch 12/500\n",
      "118/118 [==============================] - 6s 48ms/step - loss: 0.0056 - sparse_categorical_accuracy: 1.0000 - val_loss: 3.4274 - val_sparse_categorical_accuracy: 0.5667\n",
      "Epoch 13/500\n",
      "118/118 [==============================] - 7s 56ms/step - loss: 0.0095 - sparse_categorical_accuracy: 1.0000 - val_loss: 3.5180 - val_sparse_categorical_accuracy: 0.5667\n",
      "Epoch 14/500\n",
      "118/118 [==============================] - 6s 55ms/step - loss: 0.0041 - sparse_categorical_accuracy: 1.0000 - val_loss: 3.6072 - val_sparse_categorical_accuracy: 0.5667\n",
      "Epoch 15/500\n",
      "118/118 [==============================] - 6s 47ms/step - loss: 0.0036 - sparse_categorical_accuracy: 1.0000 - val_loss: 3.7021 - val_sparse_categorical_accuracy: 0.5667\n",
      "Epoch 16/500\n",
      "118/118 [==============================] - 6s 49ms/step - loss: 0.0028 - sparse_categorical_accuracy: 1.0000 - val_loss: 3.7706 - val_sparse_categorical_accuracy: 0.5667\n",
      "Epoch 17/500\n",
      "118/118 [==============================] - 6s 54ms/step - loss: 0.0041 - sparse_categorical_accuracy: 1.0000 - val_loss: 3.8586 - val_sparse_categorical_accuracy: 0.5667\n",
      "Epoch 18/500\n",
      "118/118 [==============================] - 6s 53ms/step - loss: 0.0035 - sparse_categorical_accuracy: 1.0000 - val_loss: 3.9291 - val_sparse_categorical_accuracy: 0.5667\n",
      "Epoch 19/500\n",
      "118/118 [==============================] - 6s 53ms/step - loss: 0.0020 - sparse_categorical_accuracy: 1.0000 - val_loss: 4.0059 - val_sparse_categorical_accuracy: 0.5667\n",
      "Epoch 20/500\n",
      "118/118 [==============================] - 6s 54ms/step - loss: 0.0023 - sparse_categorical_accuracy: 1.0000 - val_loss: 4.0803 - val_sparse_categorical_accuracy: 0.5333\n",
      "Epoch 21/500\n",
      "118/118 [==============================] - 6s 52ms/step - loss: 0.0012 - sparse_categorical_accuracy: 1.0000 - val_loss: 4.1485 - val_sparse_categorical_accuracy: 0.5333\n",
      "Epoch 22/500\n",
      "118/118 [==============================] - 6s 51ms/step - loss: 0.0015 - sparse_categorical_accuracy: 1.0000 - val_loss: 4.2208 - val_sparse_categorical_accuracy: 0.5333\n",
      "Epoch 23/500\n",
      "118/118 [==============================] - 6s 54ms/step - loss: 9.8294e-04 - sparse_categorical_accuracy: 1.0000 - val_loss: 4.2906 - val_sparse_categorical_accuracy: 0.5333\n",
      "Epoch 24/500\n",
      "118/118 [==============================] - 6s 54ms/step - loss: 6.5762e-04 - sparse_categorical_accuracy: 1.0000 - val_loss: 4.3580 - val_sparse_categorical_accuracy: 0.5333\n",
      "Epoch 25/500\n",
      "118/118 [==============================] - 7s 56ms/step - loss: 7.0903e-04 - sparse_categorical_accuracy: 1.0000 - val_loss: 4.4318 - val_sparse_categorical_accuracy: 0.5333\n",
      "Epoch 26/500\n",
      "118/118 [==============================] - 6s 55ms/step - loss: 0.0012 - sparse_categorical_accuracy: 1.0000 - val_loss: 4.4584 - val_sparse_categorical_accuracy: 0.5333\n",
      "Epoch 27/500\n",
      "118/118 [==============================] - 7s 57ms/step - loss: 7.5114e-04 - sparse_categorical_accuracy: 1.0000 - val_loss: 4.4887 - val_sparse_categorical_accuracy: 0.5333\n",
      "Epoch 28/500\n",
      "118/118 [==============================] - 7s 56ms/step - loss: 3.8221e-04 - sparse_categorical_accuracy: 1.0000 - val_loss: 4.5165 - val_sparse_categorical_accuracy: 0.5333\n",
      "Epoch 29/500\n",
      "118/118 [==============================] - 6s 55ms/step - loss: 4.5877e-04 - sparse_categorical_accuracy: 1.0000 - val_loss: 4.5508 - val_sparse_categorical_accuracy: 0.5333\n",
      "Epoch 30/500\n",
      "118/118 [==============================] - 7s 56ms/step - loss: 5.5952e-04 - sparse_categorical_accuracy: 1.0000 - val_loss: 4.5838 - val_sparse_categorical_accuracy: 0.5333\n",
      "Epoch 31/500\n",
      "118/118 [==============================] - 6s 53ms/step - loss: 4.2661e-04 - sparse_categorical_accuracy: 1.0000 - val_loss: 4.6136 - val_sparse_categorical_accuracy: 0.5333\n",
      "Epoch 32/500\n",
      "118/118 [==============================] - 6s 54ms/step - loss: 4.2491e-04 - sparse_categorical_accuracy: 1.0000 - val_loss: 4.6475 - val_sparse_categorical_accuracy: 0.5333\n",
      "Epoch 33/500\n",
      "118/118 [==============================] - 6s 48ms/step - loss: 3.6241e-04 - sparse_categorical_accuracy: 1.0000 - val_loss: 4.6742 - val_sparse_categorical_accuracy: 0.5333\n",
      "Epoch 34/500\n",
      "118/118 [==============================] - 6s 54ms/step - loss: 4.1799e-04 - sparse_categorical_accuracy: 1.0000 - val_loss: 4.7082 - val_sparse_categorical_accuracy: 0.5667\n",
      "Epoch 35/500\n",
      "118/118 [==============================] - 6s 50ms/step - loss: 4.1083e-04 - sparse_categorical_accuracy: 1.0000 - val_loss: 4.7407 - val_sparse_categorical_accuracy: 0.5667\n",
      "Epoch 36/500\n",
      "118/118 [==============================] - 6s 49ms/step - loss: 3.2633e-04 - sparse_categorical_accuracy: 1.0000 - val_loss: 4.7755 - val_sparse_categorical_accuracy: 0.5667\n",
      "Epoch 37/500\n",
      "118/118 [==============================] - 6s 49ms/step - loss: 2.6183e-04 - sparse_categorical_accuracy: 1.0000 - val_loss: 4.8036 - val_sparse_categorical_accuracy: 0.5667\n",
      "Epoch 38/500\n",
      "118/118 [==============================] - 6s 50ms/step - loss: 4.4502e-04 - sparse_categorical_accuracy: 1.0000 - val_loss: 4.8374 - val_sparse_categorical_accuracy: 0.5667\n",
      "Epoch 39/500\n",
      "118/118 [==============================] - 6s 48ms/step - loss: 3.0423e-04 - sparse_categorical_accuracy: 1.0000 - val_loss: 4.8738 - val_sparse_categorical_accuracy: 0.5667\n",
      "Epoch 40/500\n",
      "118/118 [==============================] - 6s 48ms/step - loss: 2.4627e-04 - sparse_categorical_accuracy: 1.0000 - val_loss: 4.9060 - val_sparse_categorical_accuracy: 0.5667\n",
      "Epoch 41/500\n",
      "118/118 [==============================] - 6s 49ms/step - loss: 2.7559e-04 - sparse_categorical_accuracy: 1.0000 - val_loss: 4.9422 - val_sparse_categorical_accuracy: 0.5667\n",
      "Epoch 42/500\n",
      "118/118 [==============================] - 6s 48ms/step - loss: 2.5608e-04 - sparse_categorical_accuracy: 1.0000 - val_loss: 4.9766 - val_sparse_categorical_accuracy: 0.5667\n",
      "Epoch 43/500\n",
      "118/118 [==============================] - 6s 55ms/step - loss: 1.5541e-04 - sparse_categorical_accuracy: 1.0000 - val_loss: 5.0092 - val_sparse_categorical_accuracy: 0.5667\n",
      "Epoch 44/500\n",
      "118/118 [==============================] - 6s 53ms/step - loss: 1.8025e-04 - sparse_categorical_accuracy: 1.0000 - val_loss: 5.0432 - val_sparse_categorical_accuracy: 0.5667\n",
      "Epoch 45/500\n",
      "118/118 [==============================] - 6s 51ms/step - loss: 1.9894e-04 - sparse_categorical_accuracy: 1.0000 - val_loss: 5.0731 - val_sparse_categorical_accuracy: 0.5667\n",
      "Epoch 46/500\n",
      "118/118 [==============================] - 6s 50ms/step - loss: 2.8756e-04 - sparse_categorical_accuracy: 1.0000 - val_loss: 5.0893 - val_sparse_categorical_accuracy: 0.5667\n",
      "Epoch 47/500\n",
      "118/118 [==============================] - 6s 51ms/step - loss: 1.4190e-04 - sparse_categorical_accuracy: 1.0000 - val_loss: 5.1040 - val_sparse_categorical_accuracy: 0.5667\n",
      "Epoch 48/500\n",
      "118/118 [==============================] - 6s 49ms/step - loss: 1.6033e-04 - sparse_categorical_accuracy: 1.0000 - val_loss: 5.1221 - val_sparse_categorical_accuracy: 0.5667\n",
      "Epoch 49/500\n",
      "118/118 [==============================] - 6s 47ms/step - loss: 1.4496e-04 - sparse_categorical_accuracy: 1.0000 - val_loss: 5.1372 - val_sparse_categorical_accuracy: 0.5667\n",
      "Epoch 50/500\n",
      "118/118 [==============================] - 6s 49ms/step - loss: 1.2083e-04 - sparse_categorical_accuracy: 1.0000 - val_loss: 5.1535 - val_sparse_categorical_accuracy: 0.5667\n",
      "Epoch 51/500\n",
      "118/118 [==============================] - 6s 49ms/step - loss: 1.5885e-04 - sparse_categorical_accuracy: 1.0000 - val_loss: 5.1728 - val_sparse_categorical_accuracy: 0.5667\n",
      "Epoch 52/500\n",
      "118/118 [==============================] - 6s 49ms/step - loss: 1.2612e-04 - sparse_categorical_accuracy: 1.0000 - val_loss: 5.1905 - val_sparse_categorical_accuracy: 0.5667\n",
      "Epoch 53/500\n",
      "118/118 [==============================] - 6s 47ms/step - loss: 1.4734e-04 - sparse_categorical_accuracy: 1.0000 - val_loss: 5.2052 - val_sparse_categorical_accuracy: 0.5667\n",
      "Epoch 54/500\n",
      "118/118 [==============================] - 6s 49ms/step - loss: 1.1975e-04 - sparse_categorical_accuracy: 1.0000 - val_loss: 5.2252 - val_sparse_categorical_accuracy: 0.5667\n",
      "Epoch 55/500\n",
      "118/118 [==============================] - 6s 48ms/step - loss: 1.3242e-04 - sparse_categorical_accuracy: 1.0000 - val_loss: 5.2441 - val_sparse_categorical_accuracy: 0.5667\n",
      "Epoch 00055: early stopping\n"
     ]
    }
   ],
   "source": [
    "from keras.callbacks import EarlyStopping\n",
    "epochs = 500\n",
    "batch_size = 1\n",
    "\n",
    "callbacks = [\n",
    "    keras.callbacks.ModelCheckpoint(\n",
    "        \"best_model.h5\", save_best_only=True, monitor=\"val_loss\"\n",
    "    ),\n",
    "    keras.callbacks.ReduceLROnPlateau(\n",
    "        monitor=\"val_loss\", factor=0.5, patience=20, min_lr=0.0001\n",
    "    ),\n",
    "    keras.callbacks.EarlyStopping(monitor=\"val_loss\", patience=50, verbose=1),\n",
    "]\n",
    "model.compile(\n",
    "    optimizer=\"adam\",\n",
    "    loss=\"sparse_categorical_crossentropy\",\n",
    "    metrics=[\"sparse_categorical_accuracy\"],\n",
    ")\n",
    "history = model.fit(\n",
    "    x,\n",
    "    y,\n",
    "    batch_size=batch_size,\n",
    "    epochs=epochs,\n",
    "    callbacks=callbacks,\n",
    "    validation_split=0.2,\n",
    "    verbose=1,\n",
    ")"
   ]
  },
  {
   "cell_type": "code",
   "execution_count": 27,
   "id": "f0b94130-40d2-4bf0-b8cf-db7e78fb7762",
   "metadata": {},
   "outputs": [
    {
     "name": "stdout",
     "output_type": "stream",
     "text": [
      "WARNING:tensorflow:Layer lstm will not use cuDNN kernel since it doesn't meet the cuDNN kernel criteria. It will use generic GPU kernel as fallback when running on GPU\n",
      "5/5 [==============================] - 0s 14ms/step - loss: 0.5516 - sparse_categorical_accuracy: 0.9054\n",
      "Test accuracy 0.9054054021835327\n",
      "Test loss 0.5515622496604919\n"
     ]
    }
   ],
   "source": [
    "model = keras.models.load_model(\"best_model.h5\")\n",
    "\n",
    "test_loss, test_acc = model.evaluate(x, y)\n",
    "\n",
    "print(\"Test accuracy\", test_acc)\n",
    "print(\"Test loss\", test_loss)"
   ]
  },
  {
   "cell_type": "code",
   "execution_count": 28,
   "id": "3f246202-7a81-4a78-ab0d-09070fab6192",
   "metadata": {
    "scrolled": true,
    "tags": []
   },
   "outputs": [
    {
     "name": "stdout",
     "output_type": "stream",
     "text": [
      "[[7.93986857e-01 1.07527361e-03 2.04937860e-01]\n",
      " [1.99493114e-03 1.57902147e-13 9.98005092e-01]\n",
      " [4.28916735e-07 9.80481252e-10 9.99999523e-01]\n",
      " [9.93495345e-01 1.95533547e-04 6.30909624e-03]\n",
      " [1.40216912e-03 5.12250971e-08 9.98597801e-01]\n",
      " [9.99630928e-01 4.10711946e-05 3.27906077e-04]\n",
      " [6.41977647e-03 1.03548437e-03 9.92544711e-01]\n",
      " [8.43498886e-01 1.70848507e-04 1.56330347e-01]\n",
      " [1.64667233e-06 1.08048264e-08 9.99998331e-01]\n",
      " [9.92394805e-01 1.29076798e-04 7.47608626e-03]\n",
      " [9.78762329e-01 6.78654807e-03 1.44510986e-02]\n",
      " [2.30053993e-04 2.63684607e-09 9.99769986e-01]\n",
      " [2.57570900e-06 9.99995112e-01 2.28712361e-06]\n",
      " [8.87443900e-01 8.10774392e-04 1.11745268e-01]\n",
      " [9.68052447e-01 3.06429160e-06 3.19444649e-02]\n",
      " [9.99980092e-01 2.37039804e-10 1.99591868e-05]\n",
      " [9.77961540e-01 3.15995247e-04 2.17225421e-02]\n",
      " [4.89192277e-01 1.30980370e-05 5.10794580e-01]\n",
      " [3.61741781e-02 6.23655978e-06 9.63819623e-01]\n",
      " [8.99619162e-01 7.29010499e-05 1.00307912e-01]\n",
      " [2.19637332e-06 4.70286754e-10 9.99997854e-01]\n",
      " [9.99836683e-01 1.59794625e-04 3.40580914e-06]\n",
      " [1.00000000e+00 3.70929345e-36 1.35874385e-11]\n",
      " [1.00000000e+00 6.04139094e-36 6.80669930e-12]\n",
      " [4.83196089e-03 6.75288720e-06 9.95161355e-01]\n",
      " [1.00995625e-04 9.99898314e-01 7.46935427e-07]\n",
      " [1.00000000e+00 4.89478280e-36 2.36693026e-10]\n",
      " [3.14050950e-02 9.67160642e-01 1.43426936e-03]\n",
      " [9.70560610e-01 2.17773137e-03 2.72616893e-02]\n",
      " [2.99183861e-03 1.25363442e-09 9.97008145e-01]\n",
      " [9.93875563e-01 4.46492480e-03 1.65954488e-03]\n",
      " [8.01700912e-03 1.37478046e-05 9.91969287e-01]\n",
      " [4.19280143e-04 3.40261577e-05 9.99546707e-01]\n",
      " [9.98254836e-01 1.21993269e-03 5.25289797e-04]\n",
      " [9.43577528e-01 3.69686121e-03 5.27256578e-02]\n",
      " [1.74281180e-01 4.71872918e-05 8.25671673e-01]\n",
      " [9.99936104e-01 1.47933164e-07 6.38155616e-05]\n",
      " [9.86914456e-01 2.27308719e-05 1.30628515e-02]\n",
      " [9.75923836e-01 1.17298299e-02 1.23463720e-02]\n",
      " [9.62951243e-01 7.53571783e-07 3.70479673e-02]\n",
      " [9.67768431e-01 7.22458935e-04 3.15090939e-02]\n",
      " [9.99999046e-01 9.49750643e-07 3.87593499e-11]\n",
      " [1.00000000e+00 4.89495423e-12 3.73068021e-09]\n",
      " [9.87289608e-01 9.92704463e-06 1.27005242e-02]\n",
      " [9.25478280e-01 8.81078086e-06 7.45128989e-02]\n",
      " [9.99807298e-01 1.32077912e-04 6.06109534e-05]\n",
      " [9.64575708e-01 2.40463109e-04 3.51838246e-02]\n",
      " [9.64556813e-01 3.42880115e-02 1.15518156e-03]\n",
      " [9.89507854e-01 2.49584371e-08 1.04921348e-02]\n",
      " [3.03018955e-03 4.66471896e-11 9.96969879e-01]\n",
      " [9.99582589e-01 4.04962746e-04 1.25197639e-05]\n",
      " [9.45917130e-01 1.19301853e-06 5.40816374e-02]\n",
      " [9.99711931e-01 4.50844396e-07 2.87597970e-04]\n",
      " [5.88689884e-03 2.72686816e-06 9.94110405e-01]\n",
      " [8.22259096e-07 7.30287164e-10 9.99999166e-01]\n",
      " [9.97981668e-01 8.81209678e-04 1.13708933e-03]\n",
      " [9.99019504e-01 1.61053357e-08 9.80503857e-04]\n",
      " [1.14257209e-05 1.95107592e-22 9.99988556e-01]\n",
      " [9.97299373e-01 2.53388099e-03 1.66806552e-04]\n",
      " [1.00000000e+00 3.77722431e-18 7.45279324e-11]\n",
      " [9.98050451e-01 1.31496310e-03 6.34580618e-04]\n",
      " [9.41988051e-01 8.13870574e-04 5.71980029e-02]\n",
      " [8.52499902e-03 9.89429057e-01 2.04591593e-03]\n",
      " [1.71928033e-01 6.39369152e-03 8.21678281e-01]\n",
      " [9.86347914e-01 6.93894038e-03 6.71307510e-03]\n",
      " [9.96761143e-01 4.11353585e-06 3.23467655e-03]\n",
      " [4.31511551e-03 9.13255099e-06 9.95675743e-01]\n",
      " [9.99998569e-01 1.00561113e-06 5.11330086e-07]\n",
      " [2.33494436e-15 1.00000000e+00 3.08606392e-14]\n",
      " [9.99999642e-01 3.77066299e-23 3.69278922e-07]\n",
      " [1.00000000e+00 2.33695966e-29 5.56195268e-09]\n",
      " [3.60945273e-06 8.05376260e-07 9.99995589e-01]\n",
      " [9.34116721e-01 2.37929198e-05 6.58594370e-02]\n",
      " [9.98427749e-01 2.20589698e-07 1.57198124e-03]\n",
      " [9.59806800e-01 3.14706381e-06 4.01899256e-02]\n",
      " [5.14651656e-01 7.53413451e-06 4.85340774e-01]\n",
      " [1.64755519e-07 9.99999881e-01 5.57790783e-17]\n",
      " [9.99994397e-01 1.39919250e-12 5.58455076e-06]\n",
      " [9.99380469e-01 5.55699189e-05 5.64020535e-04]\n",
      " [9.82370184e-05 1.00887951e-10 9.99901772e-01]\n",
      " [3.44945583e-05 3.10208158e-13 9.99965549e-01]\n",
      " [9.98273730e-01 3.19630402e-04 1.40667695e-03]\n",
      " [9.99045551e-01 1.52494959e-08 9.54412099e-04]\n",
      " [9.97052908e-01 7.93365202e-25 2.94703222e-03]\n",
      " [2.42343964e-03 7.56935037e-07 9.97575819e-01]\n",
      " [9.99970675e-01 2.50097401e-08 2.93046633e-05]\n",
      " [6.54730003e-12 2.55413572e-37 1.00000000e+00]\n",
      " [9.99890924e-01 1.12521730e-05 9.79123361e-05]\n",
      " [4.57559228e-02 2.27187138e-05 9.54221368e-01]\n",
      " [9.98248935e-01 3.28122318e-04 1.42295903e-03]\n",
      " [9.98996556e-01 4.38852658e-06 9.99075593e-04]\n",
      " [1.61169828e-05 9.99976993e-01 6.92123240e-06]\n",
      " [9.18028235e-01 3.90557652e-05 8.19326714e-02]\n",
      " [9.99999285e-01 6.77245193e-09 7.00866906e-07]\n",
      " [9.57259417e-01 1.46102070e-06 4.27391380e-02]\n",
      " [9.98583078e-01 6.51712064e-04 7.65168923e-04]\n",
      " [9.51492339e-02 4.22498215e-06 9.04846549e-01]\n",
      " [2.30993405e-02 1.60670515e-06 9.76899087e-01]\n",
      " [1.17057368e-01 6.18368271e-04 8.82324278e-01]\n",
      " [9.99967337e-01 1.80697807e-05 1.45408712e-05]\n",
      " [7.96613585e-06 1.46950363e-09 9.99992013e-01]\n",
      " [9.96953011e-01 9.24848791e-05 2.95449793e-03]\n",
      " [9.94156361e-01 8.90385418e-05 5.75461006e-03]\n",
      " [9.99942303e-01 7.01544877e-06 5.06976612e-05]\n",
      " [9.99848127e-01 1.50044303e-04 1.81309463e-06]\n",
      " [9.62320030e-01 2.46862000e-05 3.76553014e-02]\n",
      " [7.01146474e-10 1.00000000e+00 1.83004190e-09]\n",
      " [4.38050926e-02 1.87251862e-06 9.56193030e-01]\n",
      " [2.10666172e-02 1.32735673e-04 9.78800595e-01]\n",
      " [3.74123640e-02 3.89990018e-04 9.62197602e-01]\n",
      " [9.99999404e-01 4.81166040e-08 6.33821571e-07]\n",
      " [5.82045726e-02 1.38359846e-05 9.41781640e-01]\n",
      " [4.84980643e-03 2.84368923e-07 9.95149910e-01]\n",
      " [9.96065319e-01 2.87268200e-08 3.93470470e-03]\n",
      " [9.93276119e-01 3.58920333e-05 6.68806676e-03]\n",
      " [9.99995589e-01 1.56964234e-06 2.87803323e-06]\n",
      " [1.00000000e+00 6.81198544e-12 2.76208174e-13]\n",
      " [2.87297880e-03 2.13327467e-09 9.97126997e-01]\n",
      " [9.51718211e-01 5.97943384e-08 4.82816398e-02]\n",
      " [9.99998569e-01 5.06754194e-09 1.37104871e-06]\n",
      " [5.79295099e-01 1.73398654e-03 4.18970913e-01]\n",
      " [9.49241996e-01 5.07565327e-02 1.51029167e-06]\n",
      " [1.87018842e-01 1.05210429e-03 8.11929047e-01]\n",
      " [9.49241340e-01 6.76729144e-08 5.07585667e-02]\n",
      " [9.99689221e-01 1.57325077e-04 1.53525951e-04]\n",
      " [9.18874681e-01 7.34345764e-02 7.69080734e-03]\n",
      " [9.48051691e-01 2.74904286e-13 5.19483276e-02]\n",
      " [9.66161132e-01 8.83023068e-03 2.50085499e-02]\n",
      " [4.88880358e-09 1.00000000e+00 4.34240881e-12]\n",
      " [6.77070115e-04 7.90371178e-06 9.99315023e-01]\n",
      " [9.99963045e-01 3.06765537e-06 3.38749087e-05]\n",
      " [6.44172207e-02 8.05655669e-04 9.34777141e-01]\n",
      " [2.75043547e-01 6.67414367e-01 5.75420000e-02]\n",
      " [1.00000000e+00 2.59412103e-10 6.93177871e-09]\n",
      " [9.99986172e-01 1.46264085e-06 1.24543285e-05]\n",
      " [1.00000000e+00 2.19059528e-35 5.56385667e-11]\n",
      " [5.94537014e-05 1.29786926e-09 9.99940515e-01]\n",
      " [3.90038103e-01 4.99487063e-03 6.04966998e-01]\n",
      " [9.27313864e-01 7.21603557e-02 5.25914948e-04]\n",
      " [9.99943614e-01 5.08835292e-05 5.53099017e-06]\n",
      " [7.59206861e-02 5.57179783e-06 9.24073696e-01]\n",
      " [8.61831725e-01 5.62906591e-03 1.32539198e-01]\n",
      " [9.87790108e-01 4.18545278e-06 1.22057013e-02]\n",
      " [9.99793112e-01 9.43176019e-07 2.05993463e-04]\n",
      " [9.00975987e-02 2.55233681e-06 9.09899890e-01]\n",
      " [1.57755299e-03 1.34978302e-06 9.98421073e-01]\n",
      " [9.98635113e-01 1.23721591e-04 1.24113588e-03]\n",
      " [4.71614510e-01 2.70863097e-07 5.28385222e-01]]\n"
     ]
    }
   ],
   "source": [
    "yhat = model.predict(x)\n",
    "print(yhat)\n"
   ]
  },
  {
   "cell_type": "code",
   "execution_count": 29,
   "id": "946c3462-07dc-46a5-bba9-9c4af5c49a22",
   "metadata": {},
   "outputs": [
    {
     "data": {
      "text/plain": [
       "(148, 3)"
      ]
     },
     "execution_count": 29,
     "metadata": {},
     "output_type": "execute_result"
    }
   ],
   "source": [
    "yhat.shape"
   ]
  },
  {
   "cell_type": "code",
   "execution_count": 31,
   "id": "0ad3237b-8037-4bcb-b2c5-bb3c553f402e",
   "metadata": {},
   "outputs": [
    {
     "ename": "ValueError",
     "evalue": "Classification metrics can't handle a mix of multiclass and continuous-multioutput targets",
     "output_type": "error",
     "traceback": [
      "\u001b[1;31m---------------------------------------------------------------------------\u001b[0m",
      "\u001b[1;31mValueError\u001b[0m                                Traceback (most recent call last)",
      "\u001b[1;32m<ipython-input-31-1a4116259c36>\u001b[0m in \u001b[0;36m<module>\u001b[1;34m\u001b[0m\n\u001b[0;32m      1\u001b[0m \u001b[1;32mfrom\u001b[0m \u001b[0msklearn\u001b[0m\u001b[1;33m.\u001b[0m\u001b[0mmetrics\u001b[0m \u001b[1;32mimport\u001b[0m \u001b[0mf1_score\u001b[0m\u001b[1;33m\u001b[0m\u001b[1;33m\u001b[0m\u001b[0m\n\u001b[1;32m----> 2\u001b[1;33m \u001b[0mf1_score\u001b[0m\u001b[1;33m(\u001b[0m\u001b[0my\u001b[0m\u001b[1;33m,\u001b[0m \u001b[0myhat\u001b[0m\u001b[1;33m)\u001b[0m\u001b[1;33m\u001b[0m\u001b[1;33m\u001b[0m\u001b[0m\n\u001b[0m",
      "\u001b[1;32m~\\anaconda3\\envs\\tf2.4\\lib\\site-packages\\sklearn\\utils\\validation.py\u001b[0m in \u001b[0;36minner_f\u001b[1;34m(*args, **kwargs)\u001b[0m\n\u001b[0;32m     61\u001b[0m             \u001b[0mextra_args\u001b[0m \u001b[1;33m=\u001b[0m \u001b[0mlen\u001b[0m\u001b[1;33m(\u001b[0m\u001b[0margs\u001b[0m\u001b[1;33m)\u001b[0m \u001b[1;33m-\u001b[0m \u001b[0mlen\u001b[0m\u001b[1;33m(\u001b[0m\u001b[0mall_args\u001b[0m\u001b[1;33m)\u001b[0m\u001b[1;33m\u001b[0m\u001b[1;33m\u001b[0m\u001b[0m\n\u001b[0;32m     62\u001b[0m             \u001b[1;32mif\u001b[0m \u001b[0mextra_args\u001b[0m \u001b[1;33m<=\u001b[0m \u001b[1;36m0\u001b[0m\u001b[1;33m:\u001b[0m\u001b[1;33m\u001b[0m\u001b[1;33m\u001b[0m\u001b[0m\n\u001b[1;32m---> 63\u001b[1;33m                 \u001b[1;32mreturn\u001b[0m \u001b[0mf\u001b[0m\u001b[1;33m(\u001b[0m\u001b[1;33m*\u001b[0m\u001b[0margs\u001b[0m\u001b[1;33m,\u001b[0m \u001b[1;33m**\u001b[0m\u001b[0mkwargs\u001b[0m\u001b[1;33m)\u001b[0m\u001b[1;33m\u001b[0m\u001b[1;33m\u001b[0m\u001b[0m\n\u001b[0m\u001b[0;32m     64\u001b[0m \u001b[1;33m\u001b[0m\u001b[0m\n\u001b[0;32m     65\u001b[0m             \u001b[1;31m# extra_args > 0\u001b[0m\u001b[1;33m\u001b[0m\u001b[1;33m\u001b[0m\u001b[1;33m\u001b[0m\u001b[0m\n",
      "\u001b[1;32m~\\anaconda3\\envs\\tf2.4\\lib\\site-packages\\sklearn\\metrics\\_classification.py\u001b[0m in \u001b[0;36mf1_score\u001b[1;34m(y_true, y_pred, labels, pos_label, average, sample_weight, zero_division)\u001b[0m\n\u001b[0;32m   1069\u001b[0m                        \u001b[0mpos_label\u001b[0m\u001b[1;33m=\u001b[0m\u001b[0mpos_label\u001b[0m\u001b[1;33m,\u001b[0m \u001b[0maverage\u001b[0m\u001b[1;33m=\u001b[0m\u001b[0maverage\u001b[0m\u001b[1;33m,\u001b[0m\u001b[1;33m\u001b[0m\u001b[1;33m\u001b[0m\u001b[0m\n\u001b[0;32m   1070\u001b[0m                        \u001b[0msample_weight\u001b[0m\u001b[1;33m=\u001b[0m\u001b[0msample_weight\u001b[0m\u001b[1;33m,\u001b[0m\u001b[1;33m\u001b[0m\u001b[1;33m\u001b[0m\u001b[0m\n\u001b[1;32m-> 1071\u001b[1;33m                        zero_division=zero_division)\n\u001b[0m\u001b[0;32m   1072\u001b[0m \u001b[1;33m\u001b[0m\u001b[0m\n\u001b[0;32m   1073\u001b[0m \u001b[1;33m\u001b[0m\u001b[0m\n",
      "\u001b[1;32m~\\anaconda3\\envs\\tf2.4\\lib\\site-packages\\sklearn\\utils\\validation.py\u001b[0m in \u001b[0;36minner_f\u001b[1;34m(*args, **kwargs)\u001b[0m\n\u001b[0;32m     61\u001b[0m             \u001b[0mextra_args\u001b[0m \u001b[1;33m=\u001b[0m \u001b[0mlen\u001b[0m\u001b[1;33m(\u001b[0m\u001b[0margs\u001b[0m\u001b[1;33m)\u001b[0m \u001b[1;33m-\u001b[0m \u001b[0mlen\u001b[0m\u001b[1;33m(\u001b[0m\u001b[0mall_args\u001b[0m\u001b[1;33m)\u001b[0m\u001b[1;33m\u001b[0m\u001b[1;33m\u001b[0m\u001b[0m\n\u001b[0;32m     62\u001b[0m             \u001b[1;32mif\u001b[0m \u001b[0mextra_args\u001b[0m \u001b[1;33m<=\u001b[0m \u001b[1;36m0\u001b[0m\u001b[1;33m:\u001b[0m\u001b[1;33m\u001b[0m\u001b[1;33m\u001b[0m\u001b[0m\n\u001b[1;32m---> 63\u001b[1;33m                 \u001b[1;32mreturn\u001b[0m \u001b[0mf\u001b[0m\u001b[1;33m(\u001b[0m\u001b[1;33m*\u001b[0m\u001b[0margs\u001b[0m\u001b[1;33m,\u001b[0m \u001b[1;33m**\u001b[0m\u001b[0mkwargs\u001b[0m\u001b[1;33m)\u001b[0m\u001b[1;33m\u001b[0m\u001b[1;33m\u001b[0m\u001b[0m\n\u001b[0m\u001b[0;32m     64\u001b[0m \u001b[1;33m\u001b[0m\u001b[0m\n\u001b[0;32m     65\u001b[0m             \u001b[1;31m# extra_args > 0\u001b[0m\u001b[1;33m\u001b[0m\u001b[1;33m\u001b[0m\u001b[1;33m\u001b[0m\u001b[0m\n",
      "\u001b[1;32m~\\anaconda3\\envs\\tf2.4\\lib\\site-packages\\sklearn\\metrics\\_classification.py\u001b[0m in \u001b[0;36mfbeta_score\u001b[1;34m(y_true, y_pred, beta, labels, pos_label, average, sample_weight, zero_division)\u001b[0m\n\u001b[0;32m   1197\u001b[0m                                                  \u001b[0mwarn_for\u001b[0m\u001b[1;33m=\u001b[0m\u001b[1;33m(\u001b[0m\u001b[1;34m'f-score'\u001b[0m\u001b[1;33m,\u001b[0m\u001b[1;33m)\u001b[0m\u001b[1;33m,\u001b[0m\u001b[1;33m\u001b[0m\u001b[1;33m\u001b[0m\u001b[0m\n\u001b[0;32m   1198\u001b[0m                                                  \u001b[0msample_weight\u001b[0m\u001b[1;33m=\u001b[0m\u001b[0msample_weight\u001b[0m\u001b[1;33m,\u001b[0m\u001b[1;33m\u001b[0m\u001b[1;33m\u001b[0m\u001b[0m\n\u001b[1;32m-> 1199\u001b[1;33m                                                  zero_division=zero_division)\n\u001b[0m\u001b[0;32m   1200\u001b[0m     \u001b[1;32mreturn\u001b[0m \u001b[0mf\u001b[0m\u001b[1;33m\u001b[0m\u001b[1;33m\u001b[0m\u001b[0m\n\u001b[0;32m   1201\u001b[0m \u001b[1;33m\u001b[0m\u001b[0m\n",
      "\u001b[1;32m~\\anaconda3\\envs\\tf2.4\\lib\\site-packages\\sklearn\\utils\\validation.py\u001b[0m in \u001b[0;36minner_f\u001b[1;34m(*args, **kwargs)\u001b[0m\n\u001b[0;32m     61\u001b[0m             \u001b[0mextra_args\u001b[0m \u001b[1;33m=\u001b[0m \u001b[0mlen\u001b[0m\u001b[1;33m(\u001b[0m\u001b[0margs\u001b[0m\u001b[1;33m)\u001b[0m \u001b[1;33m-\u001b[0m \u001b[0mlen\u001b[0m\u001b[1;33m(\u001b[0m\u001b[0mall_args\u001b[0m\u001b[1;33m)\u001b[0m\u001b[1;33m\u001b[0m\u001b[1;33m\u001b[0m\u001b[0m\n\u001b[0;32m     62\u001b[0m             \u001b[1;32mif\u001b[0m \u001b[0mextra_args\u001b[0m \u001b[1;33m<=\u001b[0m \u001b[1;36m0\u001b[0m\u001b[1;33m:\u001b[0m\u001b[1;33m\u001b[0m\u001b[1;33m\u001b[0m\u001b[0m\n\u001b[1;32m---> 63\u001b[1;33m                 \u001b[1;32mreturn\u001b[0m \u001b[0mf\u001b[0m\u001b[1;33m(\u001b[0m\u001b[1;33m*\u001b[0m\u001b[0margs\u001b[0m\u001b[1;33m,\u001b[0m \u001b[1;33m**\u001b[0m\u001b[0mkwargs\u001b[0m\u001b[1;33m)\u001b[0m\u001b[1;33m\u001b[0m\u001b[1;33m\u001b[0m\u001b[0m\n\u001b[0m\u001b[0;32m     64\u001b[0m \u001b[1;33m\u001b[0m\u001b[0m\n\u001b[0;32m     65\u001b[0m             \u001b[1;31m# extra_args > 0\u001b[0m\u001b[1;33m\u001b[0m\u001b[1;33m\u001b[0m\u001b[1;33m\u001b[0m\u001b[0m\n",
      "\u001b[1;32m~\\anaconda3\\envs\\tf2.4\\lib\\site-packages\\sklearn\\metrics\\_classification.py\u001b[0m in \u001b[0;36mprecision_recall_fscore_support\u001b[1;34m(y_true, y_pred, beta, labels, pos_label, average, warn_for, sample_weight, zero_division)\u001b[0m\n\u001b[0;32m   1460\u001b[0m         \u001b[1;32mraise\u001b[0m \u001b[0mValueError\u001b[0m\u001b[1;33m(\u001b[0m\u001b[1;34m\"beta should be >=0 in the F-beta score\"\u001b[0m\u001b[1;33m)\u001b[0m\u001b[1;33m\u001b[0m\u001b[1;33m\u001b[0m\u001b[0m\n\u001b[0;32m   1461\u001b[0m     labels = _check_set_wise_labels(y_true, y_pred, average, labels,\n\u001b[1;32m-> 1462\u001b[1;33m                                     pos_label)\n\u001b[0m\u001b[0;32m   1463\u001b[0m \u001b[1;33m\u001b[0m\u001b[0m\n\u001b[0;32m   1464\u001b[0m     \u001b[1;31m# Calculate tp_sum, pred_sum, true_sum ###\u001b[0m\u001b[1;33m\u001b[0m\u001b[1;33m\u001b[0m\u001b[1;33m\u001b[0m\u001b[0m\n",
      "\u001b[1;32m~\\anaconda3\\envs\\tf2.4\\lib\\site-packages\\sklearn\\metrics\\_classification.py\u001b[0m in \u001b[0;36m_check_set_wise_labels\u001b[1;34m(y_true, y_pred, average, labels, pos_label)\u001b[0m\n\u001b[0;32m   1272\u001b[0m                          str(average_options))\n\u001b[0;32m   1273\u001b[0m \u001b[1;33m\u001b[0m\u001b[0m\n\u001b[1;32m-> 1274\u001b[1;33m     \u001b[0my_type\u001b[0m\u001b[1;33m,\u001b[0m \u001b[0my_true\u001b[0m\u001b[1;33m,\u001b[0m \u001b[0my_pred\u001b[0m \u001b[1;33m=\u001b[0m \u001b[0m_check_targets\u001b[0m\u001b[1;33m(\u001b[0m\u001b[0my_true\u001b[0m\u001b[1;33m,\u001b[0m \u001b[0my_pred\u001b[0m\u001b[1;33m)\u001b[0m\u001b[1;33m\u001b[0m\u001b[1;33m\u001b[0m\u001b[0m\n\u001b[0m\u001b[0;32m   1275\u001b[0m     \u001b[1;31m# Convert to Python primitive type to avoid NumPy type / Python str\u001b[0m\u001b[1;33m\u001b[0m\u001b[1;33m\u001b[0m\u001b[1;33m\u001b[0m\u001b[0m\n\u001b[0;32m   1276\u001b[0m     \u001b[1;31m# comparison. See https://github.com/numpy/numpy/issues/6784\u001b[0m\u001b[1;33m\u001b[0m\u001b[1;33m\u001b[0m\u001b[1;33m\u001b[0m\u001b[0m\n",
      "\u001b[1;32m~\\anaconda3\\envs\\tf2.4\\lib\\site-packages\\sklearn\\metrics\\_classification.py\u001b[0m in \u001b[0;36m_check_targets\u001b[1;34m(y_true, y_pred)\u001b[0m\n\u001b[0;32m     91\u001b[0m     \u001b[1;32mif\u001b[0m \u001b[0mlen\u001b[0m\u001b[1;33m(\u001b[0m\u001b[0my_type\u001b[0m\u001b[1;33m)\u001b[0m \u001b[1;33m>\u001b[0m \u001b[1;36m1\u001b[0m\u001b[1;33m:\u001b[0m\u001b[1;33m\u001b[0m\u001b[1;33m\u001b[0m\u001b[0m\n\u001b[0;32m     92\u001b[0m         raise ValueError(\"Classification metrics can't handle a mix of {0} \"\n\u001b[1;32m---> 93\u001b[1;33m                          \"and {1} targets\".format(type_true, type_pred))\n\u001b[0m\u001b[0;32m     94\u001b[0m \u001b[1;33m\u001b[0m\u001b[0m\n\u001b[0;32m     95\u001b[0m     \u001b[1;31m# We can't have more than one value on y_type => The set is no more needed\u001b[0m\u001b[1;33m\u001b[0m\u001b[1;33m\u001b[0m\u001b[1;33m\u001b[0m\u001b[0m\n",
      "\u001b[1;31mValueError\u001b[0m: Classification metrics can't handle a mix of multiclass and continuous-multioutput targets"
     ]
    }
   ],
   "source": []
  },
  {
   "cell_type": "code",
   "execution_count": null,
   "id": "0d015065-5710-4bac-ab38-82a33b608b94",
   "metadata": {},
   "outputs": [],
   "source": []
  }
 ],
 "metadata": {
  "kernelspec": {
   "display_name": "tf2.4",
   "language": "python",
   "name": "tf2.4"
  },
  "language_info": {
   "codemirror_mode": {
    "name": "ipython",
    "version": 3
   },
   "file_extension": ".py",
   "mimetype": "text/x-python",
   "name": "python",
   "nbconvert_exporter": "python",
   "pygments_lexer": "ipython3",
   "version": "3.6.13"
  }
 },
 "nbformat": 4,
 "nbformat_minor": 5
}
